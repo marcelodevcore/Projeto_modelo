{
 "cells": [
  {
   "cell_type": "code",
   "execution_count": null,
   "id": "f5e9a5a0-af64-4da5-b7c6-8cd438eeea42",
   "metadata": {},
   "outputs": [],
   "source": [
    "import numpy as np\n",
    "import matplotlib.pyplot as plt\n",
    "import pandas as pd\n",
    "\n",
    "#----> dataframes:\n",
    "data_frame = pd.read_csv('produtos2.csv')\n",
    "data_frame2 = pd.read_csv('produtos3.csv')\n",
    "\n",
    "\n",
    "# data_frame2.dtypes\n",
    "\n",
    "# profile = ProfileReport(data_frame, title=\"Pandas Profiling Report\")\n",
    "\n",
    "\n",
    "#dataframe ---> planilha com cabeçalho padrão descritivo \n",
    "#dataframe2 ----> planilha com cabeçalho adaptado ao código\n",
    "\n",
    "# data_frame.head()\n",
    "# data_frame.tail()\n",
    "# data_frame.dtypes\n",
    "# data_frame.nunique()\n",
    "\n",
    "# x = data_frame2.coluna\n",
    "\n",
    "# #plot:\n",
    "# fig, ax = plt.subplots()\n",
    "# ax.hist(x, bins=10, linewidth=0.5, edgecolor=\"white\")\n",
    "\n",
    "# ax.set(xlim=(0, 8), xticks=np.arange(1, 8),\n",
    "# ylim=(0, 56), yticks=np.linspace(0, 56, 9))\n",
    "\n",
    "# plt.show()"
   ]
  },
  {
   "cell_type": "code",
   "execution_count": 6,
   "id": "3aa57070-ec7b-4bfb-91c2-01b45be0077b",
   "metadata": {},
   "outputs": [
    {
     "data": {
      "text/plain": [
       "Data                             object\n",
       "Produto                          object\n",
       "Lote                              int64\n",
       "Quantidade_Produzida_kg           int64\n",
       "Temperatura_Media_celsius         int64\n",
       "Pressao_Media_atm               float64\n",
       "Tempo_de_Reação_horas           float64\n",
       "Pureza_porcentagem              float64\n",
       "Numero_de_Funcionarios            int64\n",
       "Inatividade da Maquina_horas    float64\n",
       "Custo_de_producao_reais         float64\n",
       "dtype: object"
      ]
     },
     "execution_count": 6,
     "metadata": {},
     "output_type": "execute_result"
    }
   ],
   "source": [
    "data_frame2.dtypes"
   ]
  },
  {
   "cell_type": "code",
   "execution_count": null,
   "id": "610585d4-b306-4d1c-b085-cad550e443ae",
   "metadata": {},
   "outputs": [],
   "source": []
  }
 ],
 "metadata": {
  "kernelspec": {
   "display_name": "Python 3 (ipykernel)",
   "language": "python",
   "name": "python3"
  },
  "language_info": {
   "codemirror_mode": {
    "name": "ipython",
    "version": 3
   },
   "file_extension": ".py",
   "mimetype": "text/x-python",
   "name": "python",
   "nbconvert_exporter": "python",
   "pygments_lexer": "ipython3",
   "version": "3.12.3"
  }
 },
 "nbformat": 4,
 "nbformat_minor": 5
}
